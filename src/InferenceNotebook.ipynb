{
 "cells": [
  {
   "cell_type": "code",
   "execution_count": 1,
   "id": "0842d56f",
   "metadata": {},
   "outputs": [],
   "source": [
    "from fact_check_nlp.predict import ExplanationModel, ClaimClassificationModel"
   ]
  },
  {
   "cell_type": "code",
   "execution_count": 2,
   "id": "87da6313",
   "metadata": {},
   "outputs": [],
   "source": [
    "CLAIM_MODEL_PATH = '/tmp/claim_classification_true_false_distillbert'\n",
    "EXPLANATION_MODEL_PATH = '/tmp/explanation-generation-peagusus-256-64'"
   ]
  },
  {
   "cell_type": "code",
   "execution_count": 3,
   "id": "6a62384f",
   "metadata": {},
   "outputs": [
    {
     "name": "stderr",
     "output_type": "stream",
     "text": [
      "Some weights of the model checkpoint at distilbert-base-uncased were not used when initializing DistilBertModel: ['vocab_transform.bias', 'vocab_projector.bias', 'vocab_projector.weight', 'vocab_layer_norm.weight', 'vocab_layer_norm.bias', 'vocab_transform.weight']\n",
      "- This IS expected if you are initializing DistilBertModel from the checkpoint of a model trained on another task or with another architecture (e.g. initializing a BertForSequenceClassification model from a BertForPreTraining model).\n",
      "- This IS NOT expected if you are initializing DistilBertModel from the checkpoint of a model that you expect to be exactly identical (initializing a BertForSequenceClassification model from a BertForSequenceClassification model).\n"
     ]
    }
   ],
   "source": [
    "claim_model = ClaimClassificationModel(CLAIM_MODEL_PATH)\n",
    "explanation_model = ExplanationModel(EXPLANATION_MODEL_PATH)"
   ]
  },
  {
   "cell_type": "markdown",
   "id": "4b3d325d",
   "metadata": {},
   "source": [
    "### Classification Model"
   ]
  },
  {
   "cell_type": "code",
   "execution_count": 7,
   "id": "6a5f3fbb",
   "metadata": {},
   "outputs": [
    {
     "name": "stderr",
     "output_type": "stream",
     "text": [
      "/Users/neeteshtiwari/miniforge3/envs/pytorch-nightly/lib/python3.10/site-packages/transformers/tokenization_utils_base.py:2339: FutureWarning: The `pad_to_max_length` argument is deprecated and will be removed in a future version, use `padding=True` or `padding='longest'` to pad to the longest sequence in the batch, or use `padding='max_length'` to pad to a max length. In this case, you can give a specific length with `max_length` (e.g. `max_length=45`) or leave max_length to None to pad to the maximal input size of the model (e.g. 512 for Bert).\n",
      "  warnings.warn(\n"
     ]
    },
    {
     "data": {
      "text/plain": [
       "(1.801517128944397, 'false')"
      ]
     },
     "execution_count": 7,
     "metadata": {},
     "output_type": "execute_result"
    }
   ],
   "source": [
    "claim_text = \"Claim is true\"\n",
    "\n",
    "evidence_text = \"Claim is false. Claim is incorrect. Claim is wrong. Claim is bad. Claim is unproven\"\n",
    "claim_model.predict(claim_text=claim_text, evidence_text=evidence_text)"
   ]
  },
  {
   "cell_type": "markdown",
   "id": "5c8e00b9",
   "metadata": {},
   "source": [
    "### Explanation Model"
   ]
  },
  {
   "cell_type": "code",
   "execution_count": 5,
   "id": "78d2ccb8",
   "metadata": {},
   "outputs": [
    {
     "data": {
      "text/plain": [
       "'There is no doubt that earth is round. There is no doubt that earth is round. There is no doubt that earth is round. There is no doubt that earth is round. There is no doubt that earth is round. There is no'"
      ]
     },
     "execution_count": 5,
     "metadata": {},
     "output_type": "execute_result"
    }
   ],
   "source": [
    "explanation_model.predict(evidence_text)"
   ]
  },
  {
   "cell_type": "code",
   "execution_count": null,
   "id": "70637e25",
   "metadata": {},
   "outputs": [],
   "source": []
  }
 ],
 "metadata": {
  "kernelspec": {
   "display_name": "Python 3 (ipykernel)",
   "language": "python",
   "name": "python3"
  },
  "language_info": {
   "codemirror_mode": {
    "name": "ipython",
    "version": 3
   },
   "file_extension": ".py",
   "mimetype": "text/x-python",
   "name": "python",
   "nbconvert_exporter": "python",
   "pygments_lexer": "ipython3",
   "version": "3.10.8"
  }
 },
 "nbformat": 4,
 "nbformat_minor": 5
}
